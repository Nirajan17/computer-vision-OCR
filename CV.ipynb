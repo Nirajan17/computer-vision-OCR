{
 "cells": [
  {
   "cell_type": "markdown",
   "metadata": {},
   "source": [
    "Tesseract learning"
   ]
  },
  {
   "cell_type": "markdown",
   "metadata": {},
   "source": []
  },
  {
   "cell_type": "code",
   "execution_count": 1,
   "metadata": {},
   "outputs": [
    {
     "name": "stdout",
     "output_type": "stream",
     "text": [
      "NO. Item No Description Hscode P/O# S/O# Q'ty(Pcs) Unit Price(USD) Amount(USD)\n",
      "2 104-10001 NeoNatalie Basic (dark) 902300 | TN200259 | S0125175 20 124.00 2480.00\n",
      "10 340-00333 MamaNatalie Compl Light 902300 | TN200259 | S0125175 10 450.00 4500.00\n",
      "1 340-00533 MamaN Compl (LT) Mama-U 902300 | TN200259 | SO0125175 1 705.60 705.60\n",
      "1 340-11033 NeoNatalie Spare Dk 902300 | TN200259 | SO0125175 15 51.00 765.00\n",
      "1 340-11133 NeoNatalie Spare Lt 902300 | TN200259 | S0125175 3 51.00 153.00\n",
      "1 340-12033 NeoNatalie body (Qt2) Dk 902300 | TN200259 | SO0125175 36.60 36.60\n",
      "38 360-00133 MamaBirthie (light) 902300 | TN200259 | SO0125175 38 586.00 22268.00\n",
      "8 450-00033 LM Mama-U 902300 | TN200259 | SO0125175 36 153.00 5508.00\n",
      "\n",
      "\n"
     ]
    }
   ],
   "source": [
    "from PIL import Image\n",
    "import pytesseract\n",
    "\n",
    "print(pytesseract.image_to_string(Image.open('image.png')))"
   ]
  },
  {
   "cell_type": "code",
   "execution_count": 8,
   "metadata": {},
   "outputs": [],
   "source": [
    "# print(pytesseract.image_to_data(Image.open('image.png')))"
   ]
  },
  {
   "cell_type": "code",
   "execution_count": 12,
   "metadata": {},
   "outputs": [],
   "source": [
    "# print(pytesseract.image_to_boxes(Image.open('image.png')))"
   ]
  },
  {
   "cell_type": "markdown",
   "metadata": {},
   "source": [
    "the coordinates of the characters are shown there"
   ]
  },
  {
   "cell_type": "markdown",
   "metadata": {},
   "source": [
    "okay, pytesseract did the job right but it works better when the image is preprocessed,ie clean, high contrast image, so let's use openCV for image preprocessing"
   ]
  },
  {
   "cell_type": "code",
   "execution_count": 4,
   "metadata": {},
   "outputs": [],
   "source": [
    "import cv2\n",
    "import pytesseract\n",
    "from PIL import Image\n",
    "\n",
    "image_path = \"image.png\"\n",
    "image = cv2.imread(image_path)\n",
    "# print(image)\n",
    "\n",
    "# convert to grayscale\n",
    "gray_image = cv2.cvtColor(image, cv2.COLOR_BGR2GRAY)\n",
    "\n",
    "# threshold is applied to make the important portion of the image to be prioritized\n",
    "# _, thresh_image = cv2.threshold(gray_image, 150, 255, cv2.THRESH_BINARY)\n",
    "\n",
    "thresh_image = cv2.adaptiveThreshold(gray_image, 255, cv2.ADAPTIVE_THRESH_GAUSSIAN_C, \n",
    "                                     cv2.THRESH_BINARY, 11, 2)\n",
    "                                     \n",
    "\n",
    "# optional step, just to check how image becomes\n",
    "cv2.imwrite(\"text_detection.png\", thresh_image)\n",
    "\n",
    "# pytesseract only works with RGB image so let's convert\n",
    "pil_image = Image.fromarray(cv2.cvtColor(thresh_image, cv2.COLOR_GRAY2RGB))\n",
    "\n",
    "text = pytesseract.image_to_string(pil_image)\n",
    "\n",
    "# print(text)\n"
   ]
  },
  {
   "cell_type": "markdown",
   "metadata": {},
   "source": [
    "let's save this output in a file for later use"
   ]
  },
  {
   "cell_type": "code",
   "execution_count": 71,
   "metadata": {},
   "outputs": [],
   "source": [
    "with open(\"raw_text.txt\", \"w\") as file:\n",
    "    file.write(text)"
   ]
  },
  {
   "cell_type": "code",
   "execution_count": null,
   "metadata": {},
   "outputs": [],
   "source": []
  },
  {
   "cell_type": "markdown",
   "metadata": {},
   "source": [
    "now, we need to detect the table in the raw text, so that we can disect data as headers and ......"
   ]
  },
  {
   "cell_type": "markdown",
   "metadata": {},
   "source": [
    "let's preprocess the image, now to detect the table, lines and ...."
   ]
  },
  {
   "cell_type": "code",
   "execution_count": 6,
   "metadata": {},
   "outputs": [
    {
     "data": {
      "text/plain": [
       "True"
      ]
     },
     "execution_count": 6,
     "metadata": {},
     "output_type": "execute_result"
    }
   ],
   "source": [
    "\n",
    "import numpy as np\n",
    "\n",
    "image_path = \"image.png\"\n",
    "image = cv2.imread(image_path)\n",
    "\n",
    "gray = cv2.cvtColor(image, cv2.COLOR_BGR2GRAY)\n",
    "\n",
    "thresh = cv2.adaptiveThreshold(gray, 255, cv2.ADAPTIVE_THRESH_GAUSSIAN_C, \n",
    "                               cv2.THRESH_BINARY_INV, 15, 2)\n",
    "\n",
    "horizontal_kernel = cv2.getStructuringElement(cv2.MORPH_RECT, (30, 1))  # (Width, Height)\n",
    "thresh_image = cv2.morphologyEx(thresh_image, cv2.MORPH_OPEN, horizontal_kernel, iterations=5)\n",
    "\n",
    "# just for checking image \n",
    "cv2.imwrite(\"lines_detection.png\", thresh)"
   ]
  },
  {
   "cell_type": "markdown",
   "metadata": {},
   "source": [
    "detecting lines in table"
   ]
  },
  {
   "cell_type": "code",
   "execution_count": 7,
   "metadata": {},
   "outputs": [
    {
     "data": {
      "text/plain": [
       "True"
      ]
     },
     "execution_count": 7,
     "metadata": {},
     "output_type": "execute_result"
    }
   ],
   "source": [
    "edges = cv2.Canny(thresh, 50, 150, apertureSize=3)\n",
    "\n",
    "# Detect lines using Hough Transform\n",
    "# lines = cv2.HoughLinesP(edges, 1, np.pi / 180, threshold=20, \n",
    "#                         minLineLength=265, maxLineGap=10)\n",
    "\n",
    "\n",
    "lines = cv2.HoughLinesP(edges, 1, np.pi / 180, threshold=155, \n",
    "                        minLineLength=261, maxLineGap=14)\n",
    "\n",
    "# print(lines)\n",
    "image_with_lines = image.copy()\n",
    "\n",
    "for line in lines:\n",
    "    x1, y1, x2, y2 = line[0]\n",
    "    cv2.line(image_with_lines, (x1, y1), (x2, y2), (0, 255, 0), 2)\n",
    "    \n",
    "\n",
    "cv2.imwrite(\"lines_detected.png\",image_with_lines)"
   ]
  },
  {
   "cell_type": "code",
   "execution_count": null,
   "metadata": {},
   "outputs": [],
   "source": [
    "# # print(lines)\n",
    "# image_with_lines = image.copy()\n",
    "\n",
    "# for line in lines:\n",
    "#     x1, y1, x2, y2 = line[0]\n",
    "#     cv2.line(image_with_lines, (x1, y1), (x2, y2), (0, 255, 0), 2)\n",
    "    "
   ]
  },
  {
   "cell_type": "code",
   "execution_count": null,
   "metadata": {},
   "outputs": [
    {
     "data": {
      "text/plain": [
       "True"
      ]
     },
     "execution_count": 180,
     "metadata": {},
     "output_type": "execute_result"
    }
   ],
   "source": [
    "# cv2.imwrite(\"lines_detected.png\",image_with_lines)"
   ]
  },
  {
   "cell_type": "markdown",
   "metadata": {},
   "source": [
    "now that lines are detected, we need to separate vertical and horizotal lines"
   ]
  },
  {
   "cell_type": "code",
   "execution_count": 158,
   "metadata": {},
   "outputs": [
    {
     "name": "stdout",
     "output_type": "stream",
     "text": [
      "[[   1  164 1979  164]]\n"
     ]
    }
   ],
   "source": [
    "print(lines[0])\n",
    "# a bit confused which line's cordinate are these"
   ]
  },
  {
   "cell_type": "code",
   "execution_count": 21,
   "metadata": {},
   "outputs": [
    {
     "name": "stdout",
     "output_type": "stream",
     "text": [
      "Detected 21 horizontal lines and 12 vertical lines\n"
     ]
    }
   ],
   "source": [
    "# we have values in lines\n",
    "\n",
    "# horizontal_lines = []\n",
    "# vertical_lines = []\n",
    "\n",
    "# for line in lines:\n",
    "#     x1, y1, x2, y2 = line[0]\n",
    "\n",
    "#     # Horizontal lines have a small y-difference (close to 0 slope)\n",
    "#     if abs(y2 - y1) < 10:  # Threshold for horizontal\n",
    "#         horizontal_lines.append([x1, y1, x2, y2])\n",
    "\n",
    "#     # Vertical lines have a small x-difference (close to infinite slope)\n",
    "#     elif abs(x2 - x1) < 10:  # Threshold for vertical\n",
    "#         vertical_lines.append([x1, y1, x2, y2])\n",
    "\n",
    "import numpy as np\n",
    "\n",
    "horizontal_lines = []\n",
    "vertical_lines = []\n",
    "\n",
    "line_threshold = 10  # Distance threshold for merging lines\n",
    "min_line_length = 50  # Filter out very short lines\n",
    "\n",
    "for line in lines:\n",
    "    x1, y1, x2, y2 = line[0]\n",
    "\n",
    "    # Horizontal lines detection\n",
    "    if abs(y2 - y1) < 10:  # Close to 0 slope\n",
    "        if abs(x2 - x1) > min_line_length:  # Ignore small lines\n",
    "            horizontal_lines.append([x1, y1, x2, y2])\n",
    "\n",
    "    # Vertical lines detection\n",
    "    elif abs(x2 - x1) < 10:  # Close to infinite slope\n",
    "        if abs(y2 - y1) > min_line_length:  # Ignore small lines\n",
    "            vertical_lines.append([x1, y1, x2, y2])\n",
    "\n",
    "    # Sort lines\n",
    "horizontal_lines = sorted(horizontal_lines, key=lambda x: x[1])  # Sort by y-coordinate\n",
    "vertical_lines = sorted(vertical_lines, key=lambda x: x[0])  # Sort by x-coordinate\n",
    "\n",
    "print(f\"Detected {len(horizontal_lines)} horizontal lines and {len(vertical_lines)} vertical lines\")"
   ]
  },
  {
   "cell_type": "code",
   "execution_count": 22,
   "metadata": {},
   "outputs": [
    {
     "name": "stdout",
     "output_type": "stream",
     "text": [
      "[np.int32(1), np.int32(0), np.int32(1980), np.int32(0)]\n"
     ]
    }
   ],
   "source": [
    "print(horizontal_lines[0])\n",
    "# (2,0) (1980,0)"
   ]
  },
  {
   "cell_type": "code",
   "execution_count": 24,
   "metadata": {},
   "outputs": [
    {
     "data": {
      "text/plain": [
       "True"
      ]
     },
     "execution_count": 24,
     "metadata": {},
     "output_type": "execute_result"
    }
   ],
   "source": [
    "\n",
    "cells = []\n",
    "for i in range(len(horizontal_lines) - 1):  # Iterate over rows\n",
    "    for j in range(len(vertical_lines) - 1):  # Iterate over columns\n",
    "        x1 = vertical_lines[j][0]  # Left x-coordinate\n",
    "        y1 = horizontal_lines[i][1]  # Top y-coordinate\n",
    "        x2 = vertical_lines[j + 1][0]  # Right x-coordinate\n",
    "        y2 = horizontal_lines[i + 1][1]  # Bottom y-coordinate\n",
    "        cells.append((x1, y1, x2, y2))\n",
    "\n",
    "# Draw the cells on the image for visualization\n",
    "image_with_cells = image.copy()\n",
    "for (x1, y1, x2, y2) in cells:\n",
    "    cv2.rectangle(image_with_cells, (x1, y1), (x2, y2), (0, 0, 255), 2)\n",
    "\n",
    "\n",
    "cv2.imwrite(\"cells_detected.png\", image_with_cells)"
   ]
  },
  {
   "cell_type": "code",
   "execution_count": null,
   "metadata": {},
   "outputs": [],
   "source": []
  },
  {
   "cell_type": "markdown",
   "metadata": {},
   "source": [
    "we detected the text in the very beginning, but then why are we doing these steps again??\n",
    "well, that was a random text block, but we need the the text along with the cell information\n",
    ",,, in which cell the data is so that we can form the json format according to that"
   ]
  },
  {
   "cell_type": "code",
   "execution_count": 25,
   "metadata": {},
   "outputs": [
    {
     "name": "stdout",
     "output_type": "stream",
     "text": [
      "Cell 1 Text: ''\n",
      "Cell 2 Text: 'NO.'\n",
      "Cell 3 Text: 'Item No'\n",
      "Cell 4 Text: 'Description'\n",
      "Cell 5 Text: 'Hscode'\n",
      "Cell 6 Text: 'P/O#'\n",
      "Cell 7 Text: 'S/O#'\n",
      "Cell 8 Text: ''\n",
      "Cell 9 Text: 'O'ty(Pcs)'\n",
      "Cell 10 Text: 'Unit Price(USD)'\n",
      "Cell 11 Text: 'Amount(USD)'\n",
      "Cell 12 Text: ''\n",
      "Cell 13 Text: ''\n",
      "Cell 14 Text: ''\n",
      "Cell 15 Text: ''\n",
      "Cell 16 Text: ''\n",
      "Cell 17 Text: ''\n",
      "Cell 18 Text: ''\n",
      "Cell 19 Text: ''\n",
      "Cell 20 Text: ''\n",
      "Cell 21 Text: ''\n",
      "Cell 22 Text: ''\n",
      "Cell 23 Text: ''\n",
      "Cell 24 Text: ''\n",
      "Cell 25 Text: '104-10001'\n",
      "Cell 26 Text: 'NeoNatalie Basic (dark)'\n",
      "Cell 27 Text: '902300'\n",
      "Cell 28 Text: 'TN200259'\n",
      "Cell 29 Text: '$0125175'\n",
      "Cell 30 Text: ''\n",
      "Cell 31 Text: '20'\n",
      "Cell 32 Text: '124.00'\n",
      "Cell 33 Text: '2480.00'\n",
      "Cell 34 Text: ''\n",
      "Cell 35 Text: '10'\n",
      "Cell 36 Text: '340-00333'\n",
      "Cell 37 Text: 'MamaNatalie Comp! Light'\n",
      "Cell 38 Text: '902300'\n",
      "Cell 39 Text: 'TN200259'\n",
      "Cell 40 Text: '$0125175'\n",
      "Cell 41 Text: ''\n",
      "Cell 42 Text: '10'\n",
      "Cell 43 Text: '450.00'\n",
      "Cell 44 Text: '4500.00'\n",
      "Cell 45 Text: ''\n",
      "Cell 46 Text: ''\n",
      "Cell 47 Text: ''\n",
      "Cell 48 Text: ''\n",
      "Cell 49 Text: ''\n",
      "Cell 50 Text: ''\n",
      "Cell 51 Text: ''\n",
      "Cell 52 Text: ''\n",
      "Cell 53 Text: ''\n",
      "Cell 54 Text: ''\n",
      "Cell 55 Text: ''\n",
      "Cell 56 Text: ''\n",
      "Cell 57 Text: ''\n",
      "Cell 58 Text: ''\n",
      "Cell 59 Text: ''\n",
      "Cell 60 Text: ''\n",
      "Cell 61 Text: ''\n",
      "Cell 62 Text: ''\n",
      "Cell 63 Text: ''\n",
      "Cell 64 Text: ''\n",
      "Cell 65 Text: ''\n",
      "Cell 66 Text: ''\n",
      "Cell 67 Text: ''\n",
      "Cell 68 Text: ''\n",
      "Cell 69 Text: ''\n",
      "Cell 70 Text: ''\n",
      "Cell 71 Text: ''\n",
      "Cell 72 Text: ''\n",
      "Cell 73 Text: ''\n",
      "Cell 74 Text: ''\n",
      "Cell 75 Text: ''\n",
      "Cell 76 Text: ''\n",
      "Cell 77 Text: ''\n",
      "Cell 78 Text: ''\n",
      "Cell 79 Text: ''\n",
      "Cell 80 Text: ''\n",
      "Cell 81 Text: ''\n",
      "Cell 82 Text: ''\n",
      "Cell 83 Text: ''\n",
      "Cell 84 Text: ''\n",
      "Cell 85 Text: ''\n",
      "Cell 86 Text: ''\n",
      "Cell 87 Text: ''\n",
      "Cell 88 Text: ''\n",
      "Cell 89 Text: ''\n",
      "Cell 90 Text: ''\n",
      "Cell 91 Text: ''\n",
      "Cell 92 Text: ''\n",
      "Cell 93 Text: ''\n",
      "Cell 94 Text: ''\n",
      "Cell 95 Text: ''\n",
      "Cell 96 Text: ''\n",
      "Cell 97 Text: ''\n",
      "Cell 98 Text: ''\n",
      "Cell 99 Text: ''\n",
      "Cell 100 Text: ''\n",
      "Cell 101 Text: ''\n",
      "Cell 102 Text: ''\n",
      "Cell 103 Text: ''\n",
      "Cell 104 Text: ''\n",
      "Cell 105 Text: ''\n",
      "Cell 106 Text: ''\n",
      "Cell 107 Text: ''\n",
      "Cell 108 Text: ''\n",
      "Cell 109 Text: ''\n",
      "Cell 110 Text: ''\n",
      "Cell 111 Text: ''\n",
      "Cell 112 Text: ''\n",
      "Cell 113 Text: ''\n",
      "Cell 114 Text: ''\n",
      "Cell 115 Text: ''\n",
      "Cell 116 Text: ''\n",
      "Cell 117 Text: ''\n",
      "Cell 118 Text: ''\n",
      "Cell 119 Text: ''\n",
      "Cell 120 Text: ''\n",
      "Cell 121 Text: ''\n",
      "Cell 122 Text: ''\n",
      "Cell 123 Text: ''\n",
      "Cell 124 Text: ''\n",
      "Cell 125 Text: ''\n",
      "Cell 126 Text: ''\n",
      "Cell 127 Text: ''\n",
      "Cell 128 Text: ''\n",
      "Cell 129 Text: ''\n",
      "Cell 130 Text: ''\n",
      "Cell 131 Text: ''\n",
      "Cell 132 Text: ''\n",
      "Cell 133 Text: ''\n",
      "Cell 134 Text: ''\n",
      "Cell 135 Text: ''\n",
      "Cell 136 Text: ''\n",
      "Cell 137 Text: ''\n",
      "Cell 138 Text: ''\n",
      "Cell 139 Text: ''\n",
      "Cell 140 Text: ''\n",
      "Cell 141 Text: ''\n",
      "Cell 142 Text: ''\n",
      "Cell 143 Text: ''\n",
      "Cell 144 Text: ''\n",
      "Cell 145 Text: ''\n",
      "Cell 146 Text: ''\n",
      "Cell 147 Text: ''\n",
      "Cell 148 Text: ''\n",
      "Cell 149 Text: ''\n",
      "Cell 150 Text: ''\n",
      "Cell 151 Text: ''\n",
      "Cell 152 Text: ''\n",
      "Cell 153 Text: ''\n",
      "Cell 154 Text: ''\n",
      "Cell 155 Text: ''\n",
      "Cell 156 Text: ''\n",
      "Cell 157 Text: ''\n",
      "Cell 158 Text: ''\n",
      "Cell 159 Text: ''\n",
      "Cell 160 Text: ''\n",
      "Cell 161 Text: ''\n",
      "Cell 162 Text: ''\n",
      "Cell 163 Text: ''\n",
      "Cell 164 Text: ''\n",
      "Cell 165 Text: ''\n",
      "Cell 166 Text: ''\n",
      "Cell 167 Text: ''\n",
      "Cell 168 Text: '340-11033'\n",
      "Cell 169 Text: 'NeoNatalie Spare Dk'\n",
      "Cell 170 Text: '902300'\n",
      "Cell 171 Text: 'TN200259'\n",
      "Cell 172 Text: '$0125175'\n",
      "Cell 173 Text: ''\n",
      "Cell 174 Text: ''\n",
      "Cell 175 Text: ''\n",
      "Cell 176 Text: '765.00'\n",
      "Cell 177 Text: ''\n",
      "Cell 178 Text: ''\n",
      "Cell 179 Text: '340-11133'\n",
      "Cell 180 Text: 'NeoNatalie Spare Lt'\n",
      "Cell 181 Text: '902300'\n",
      "Cell 182 Text: 'TN200259'\n",
      "Cell 183 Text: '$0125175'\n",
      "Cell 184 Text: ''\n",
      "Cell 185 Text: ''\n",
      "Cell 186 Text: ''\n",
      "Cell 187 Text: '153.00'\n",
      "Cell 188 Text: ''\n",
      "Cell 189 Text: ''\n",
      "Cell 190 Text: '340-12033'\n",
      "Cell 191 Text: 'NeoNatalie body (Qt2) Dk'\n",
      "Cell 192 Text: '902300'\n",
      "Cell 193 Text: 'TN200259'\n",
      "Cell 194 Text: '$0125175'\n",
      "Cell 195 Text: ''\n",
      "Cell 196 Text: ''\n",
      "Cell 197 Text: ''\n",
      "Cell 198 Text: '36.60'\n",
      "Cell 199 Text: ''\n",
      "Cell 200 Text: '38'\n",
      "Cell 201 Text: '360-00133'\n",
      "Cell 202 Text: 'MamaBirthie (light)'\n",
      "Cell 203 Text: '902300'\n",
      "Cell 204 Text: 'TN200259'\n",
      "Cell 205 Text: '$0125175'\n",
      "Cell 206 Text: ''\n",
      "Cell 207 Text: '38'\n",
      "Cell 208 Text: '586.00'\n",
      "Cell 209 Text: '22268.00'\n",
      "Cell 210 Text: ''\n",
      "Cell 211 Text: ''\n",
      "Cell 212 Text: '450-00033'\n",
      "Cell 213 Text: 'LM Mama-U'\n",
      "Cell 214 Text: '902300'\n",
      "Cell 215 Text: 'TN200259'\n",
      "Cell 216 Text: '$0125175'\n",
      "Cell 217 Text: ''\n",
      "Cell 218 Text: ''\n",
      "Cell 219 Text: '153.00'\n",
      "Cell 220 Text: '5508.00'\n"
     ]
    }
   ],
   "source": [
    "cell_text = []\n",
    "for idx, (x1, y1, x2, y2) in enumerate(cells):\n",
    "    # Crop the cell from the original image\n",
    "    cell_image = image[y1:y2, x1:x2]\n",
    "    \n",
    "    # Convert to RGB for PIL (pytesseract requires RGB)\n",
    "    cell_image_rgb = cv2.cvtColor(cell_image, cv2.COLOR_BGR2RGB)\n",
    "    pil_image = Image.fromarray(cell_image_rgb)\n",
    "    \n",
    "    # Extract text using pytesseract\n",
    "    text = pytesseract.image_to_string(pil_image).strip()\n",
    "    \n",
    "    # Store the text and coordinates\n",
    "    cell_text.append({\"text\": text, \"coords\": (x1, y1, x2, y2)})\n",
    "    print(f\"Cell {idx + 1} Text: '{text}'\")"
   ]
  },
  {
   "cell_type": "markdown",
   "metadata": {},
   "source": [
    "# i will see later from here"
   ]
  },
  {
   "cell_type": "code",
   "execution_count": 26,
   "metadata": {},
   "outputs": [],
   "source": [
    "# import json\n",
    "\n",
    "# with open(\"cell_text.json\", \"w\") as f:\n",
    "#     json.dump(cell_text, f)\n",
    "\n",
    "import json\n",
    "import numpy as np\n",
    "\n",
    "def default_converter(o):\n",
    "    if isinstance(o, np.integer):\n",
    "        return int(o)\n",
    "    raise TypeError(f\"Object {o} is not JSON serializable\")\n",
    "\n",
    "with open(\"cell_text.json\", \"w\") as f:\n",
    "    json.dump(cell_text, f, default=default_converter)"
   ]
  },
  {
   "cell_type": "code",
   "execution_count": 27,
   "metadata": {},
   "outputs": [
    {
     "name": "stdout",
     "output_type": "stream",
     "text": [
      "Processed Headers: ['unknown', 'no', 'item_no', 'description', 'hscode', 'p_o', 's_o', 'unknown']\n"
     ]
    }
   ],
   "source": [
    "# Assume cell_text is already populated from the previous step\n",
    "headers_raw = [cell[\"text\"] for cell in cell_text[:8]]  # First row (8 cells)\n",
    "\n",
    "# Process each header: lowercase, underscore-separated, remove non-alphabet\n",
    "import re\n",
    "headers = []\n",
    "for header in headers_raw:\n",
    "    # Convert to lowercase and replace non-alphabet with underscore\n",
    "    processed = re.sub(r'[^a-z0-9]+', '_', header.lower()).strip('_')\n",
    "    headers.append(processed if processed else \"unknown\")  # Avoid empty strings\n",
    "\n",
    "print(\"Processed Headers:\", headers)"
   ]
  },
  {
   "cell_type": "code",
   "execution_count": 29,
   "metadata": {},
   "outputs": [
    {
     "name": "stdout",
     "output_type": "stream",
     "text": [
      "Total rows detected: 27\n",
      "Row 1: [\"O'ty(Pcs)\", 'Unit Price(USD)', 'Amount(USD)', '', '', '', '', '']\n",
      "Row 2: ['', '', '', '', '', '', '', '']\n",
      "Row 3: ['104-10001', 'NeoNatalie Basic (dark)', '902300', 'TN200259', '$0125175', '', '20', '124.00']\n",
      "Row 4: ['2480.00', '', '10', '340-00333', 'MamaNatalie Comp! Light', '902300', 'TN200259', '$0125175']\n",
      "Row 5: ['', '10', '450.00', '4500.00', '', '', '', '']\n",
      "Row 6: ['', '', '', '', '', '', '', '']\n",
      "Row 7: ['', '', '', '', '', '', '', '']\n",
      "Row 8: ['', '', '', '', '', '', '', '']\n",
      "Row 9: ['', '', '', '', '', '', '', '']\n",
      "Row 10: ['', '', '', '', '', '', '', '']\n",
      "Row 11: ['', '', '', '', '', '', '', '']\n",
      "Row 12: ['', '', '', '', '', '', '', '']\n",
      "Row 13: ['', '', '', '', '', '', '', '']\n",
      "Row 14: ['', '', '', '', '', '', '', '']\n",
      "Row 15: ['', '', '', '', '', '', '', '']\n",
      "Row 16: ['', '', '', '', '', '', '', '']\n",
      "Row 17: ['', '', '', '', '', '', '', '']\n",
      "Row 18: ['', '', '', '', '', '', '', '']\n",
      "Row 19: ['', '', '', '', '', '', '', '']\n",
      "Row 20: ['', '', '', '', '', '', '', '340-11033']\n",
      "Row 21: ['NeoNatalie Spare Dk', '902300', 'TN200259', '$0125175', '', '', '', '765.00']\n",
      "Row 22: ['', '', '340-11133', 'NeoNatalie Spare Lt', '902300', 'TN200259', '$0125175', '']\n",
      "Row 23: ['', '', '153.00', '', '', '340-12033', 'NeoNatalie body (Qt2) Dk', '902300']\n",
      "Row 24: ['TN200259', '$0125175', '', '', '', '36.60', '', '38']\n",
      "Row 25: ['360-00133', 'MamaBirthie (light)', '902300', 'TN200259', '$0125175', '', '38', '586.00']\n",
      "Row 26: ['22268.00', '', '', '450-00033', 'LM Mama-U', '902300', 'TN200259', '$0125175']\n",
      "Row 27: ['', '', '153.00', '5508.00']\n"
     ]
    }
   ],
   "source": [
    "# Total cells and number of data rows\n",
    "total_cells = len(cell_text)\n",
    "data_cells = cell_text[8:]  # Exclude header row\n",
    "rows = [data_cells[i:i + 8] for i in range(0, len(data_cells), 8)]\n",
    "\n",
    "print(f\"Total rows detected: {len(rows)}\")\n",
    "for idx, row in enumerate(rows):\n",
    "    print(f\"Row {idx + 1}: {[cell['text'] for cell in row]}\")"
   ]
  },
  {
   "cell_type": "code",
   "execution_count": 30,
   "metadata": {},
   "outputs": [
    {
     "name": "stdout",
     "output_type": "stream",
     "text": [
      "JSON Data: [{'unknown': '', 'no': 'Unit Price(USD)', 'item_no': 'Amount(USD)', 'description': '', 'hscode': '', 'p_o': '', 's_o': ''}, {'unknown': '', 'no': '', 'item_no': '', 'description': '', 'hscode': '', 'p_o': '', 's_o': ''}, {'unknown': '124.00', 'no': 'NeoNatalie Basic (dark)', 'item_no': '902300', 'description': 'TN200259', 'hscode': '$0125175', 'p_o': '', 's_o': '20'}, {'unknown': '$0125175', 'no': '', 'item_no': '10', 'description': '340-00333', 'hscode': 'MamaNatalie Comp! Light', 'p_o': '902300', 's_o': 'TN200259'}, {'unknown': '', 'no': '10', 'item_no': '450.00', 'description': '4500.00', 'hscode': '', 'p_o': '', 's_o': ''}, {'unknown': '', 'no': '', 'item_no': '', 'description': '', 'hscode': '', 'p_o': '', 's_o': ''}, {'unknown': '', 'no': '', 'item_no': '', 'description': '', 'hscode': '', 'p_o': '', 's_o': ''}, {'unknown': '', 'no': '', 'item_no': '', 'description': '', 'hscode': '', 'p_o': '', 's_o': ''}, {'unknown': '', 'no': '', 'item_no': '', 'description': '', 'hscode': '', 'p_o': '', 's_o': ''}, {'unknown': '', 'no': '', 'item_no': '', 'description': '', 'hscode': '', 'p_o': '', 's_o': ''}, {'unknown': '', 'no': '', 'item_no': '', 'description': '', 'hscode': '', 'p_o': '', 's_o': ''}, {'unknown': '', 'no': '', 'item_no': '', 'description': '', 'hscode': '', 'p_o': '', 's_o': ''}, {'unknown': '', 'no': '', 'item_no': '', 'description': '', 'hscode': '', 'p_o': '', 's_o': ''}, {'unknown': '', 'no': '', 'item_no': '', 'description': '', 'hscode': '', 'p_o': '', 's_o': ''}, {'unknown': '', 'no': '', 'item_no': '', 'description': '', 'hscode': '', 'p_o': '', 's_o': ''}, {'unknown': '', 'no': '', 'item_no': '', 'description': '', 'hscode': '', 'p_o': '', 's_o': ''}, {'unknown': '', 'no': '', 'item_no': '', 'description': '', 'hscode': '', 'p_o': '', 's_o': ''}, {'unknown': '', 'no': '', 'item_no': '', 'description': '', 'hscode': '', 'p_o': '', 's_o': ''}, {'unknown': '', 'no': '', 'item_no': '', 'description': '', 'hscode': '', 'p_o': '', 's_o': ''}, {'unknown': '340-11033', 'no': '', 'item_no': '', 'description': '', 'hscode': '', 'p_o': '', 's_o': ''}, {'unknown': '765.00', 'no': '902300', 'item_no': 'TN200259', 'description': '$0125175', 'hscode': '', 'p_o': '', 's_o': ''}, {'unknown': '', 'no': '', 'item_no': '340-11133', 'description': 'NeoNatalie Spare Lt', 'hscode': '902300', 'p_o': 'TN200259', 's_o': '$0125175'}, {'unknown': '902300', 'no': '', 'item_no': '153.00', 'description': '', 'hscode': '', 'p_o': '340-12033', 's_o': 'NeoNatalie body (Qt2) Dk'}, {'unknown': '38', 'no': '$0125175', 'item_no': '', 'description': '', 'hscode': '', 'p_o': '36.60', 's_o': ''}, {'unknown': '586.00', 'no': 'MamaBirthie (light)', 'item_no': '902300', 'description': 'TN200259', 'hscode': '$0125175', 'p_o': '', 's_o': '38'}, {'unknown': '$0125175', 'no': '', 'item_no': '', 'description': '450-00033', 'hscode': 'LM Mama-U', 'p_o': '902300', 's_o': 'TN200259'}, {'unknown': '', 'no': '', 'item_no': '153.00', 'description': '5508.00'}]\n"
     ]
    }
   ],
   "source": [
    "# Create a list of dictionaries\n",
    "json_data = []\n",
    "for row in rows:\n",
    "    row_dict = {}\n",
    "    for header, cell in zip(headers, [cell[\"text\"] for cell in row]):\n",
    "        row_dict[header] = cell\n",
    "    json_data.append(row_dict)\n",
    "\n",
    "print(\"JSON Data:\", json_data)"
   ]
  },
  {
   "cell_type": "code",
   "execution_count": 31,
   "metadata": {},
   "outputs": [
    {
     "name": "stdout",
     "output_type": "stream",
     "text": [
      "JSON file saved as 'output.json'\n"
     ]
    }
   ],
   "source": [
    "# Save to JSON file\n",
    "with open(\"output.json\", \"w\") as f:\n",
    "    json.dump(json_data, f, indent=4)\n",
    "\n",
    "print(\"JSON file saved as 'output.json'\")"
   ]
  },
  {
   "cell_type": "code",
   "execution_count": 258,
   "metadata": {},
   "outputs": [
    {
     "name": "stdout",
     "output_type": "stream",
     "text": [
      "Submission zip file created as 'submission.zip'\n"
     ]
    }
   ],
   "source": [
    "import zipfile\n",
    "\n",
    "# Create a zip file\n",
    "with zipfile.ZipFile(\"submission.zip\", \"w\", zipfile.ZIP_DEFLATED) as zipf:\n",
    "    zipf.write(\"output.json\")\n",
    "    zipf.write(\"image.png\")\n",
    "\n",
    "print(\"Submission zip file created as 'submission.zip'\")"
   ]
  },
  {
   "cell_type": "code",
   "execution_count": null,
   "metadata": {},
   "outputs": [],
   "source": []
  }
 ],
 "metadata": {
  "kernelspec": {
   "display_name": "computer-vision",
   "language": "python",
   "name": "python3"
  },
  "language_info": {
   "codemirror_mode": {
    "name": "ipython",
    "version": 3
   },
   "file_extension": ".py",
   "mimetype": "text/x-python",
   "name": "python",
   "nbconvert_exporter": "python",
   "pygments_lexer": "ipython3",
   "version": "3.13.2"
  }
 },
 "nbformat": 4,
 "nbformat_minor": 2
}
